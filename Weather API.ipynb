{
 "cells": [
  {
   "cell_type": "markdown",
   "id": "f279c049-aaca-43d1-8564-a3cbbe8fbd2b",
   "metadata": {},
   "source": [
    "##Ques1 *This is the Weather API documentation* https://www.weatherapi.com/docs/"
   ]
  },
  {
   "cell_type": "code",
   "execution_count": null,
   "id": "03f8b6e4-dc50-4646-8d6c-ce6d5a39cfdd",
   "metadata": {},
   "outputs": [],
   "source": [
    "import requests\n",
    "from dotenv import load_dotenv\n",
    "import os\n",
    "load_dotenv()\n",
    "API_KEY = os.getenv(\"API_KEY\")"
   ]
  },
  {
   "cell_type": "code",
   "execution_count": null,
   "id": "95a672b1-fbc2-4ce1-b740-32722216d539",
   "metadata": {},
   "outputs": [],
   "source": [
    "#Ques 2 Make a request for the current weather where you are born, or somewhere you've lived.\n",
    "url1 = f'http://api.weatherapi.com/v1/current.json?key={API_KEY}&q=Bengaluru'\n",
    "response1 = requests.get(url1)\n",
    "data1 = response1.json()"
   ]
  },
  {
   "cell_type": "code",
   "execution_count": null,
   "id": "5f1f51d2-ad48-44e7-aa8d-dbc57c7ce2a9",
   "metadata": {},
   "outputs": [
    {
     "name": "stdout",
     "output_type": "stream",
     "text": [
      "The current temperature in Bengaluru is 19.4 degree celsius and is Sunny\n"
     ]
    }
   ],
   "source": [
    "current_temp = data1['current']['temp_c']\n",
    "current_condition = data1['current']['condition']['text']\n",
    "print(\"The current temperature in Bengaluru is\", current_temp,\"degree celsius and is\", current_condition)"
   ]
  },
  {
   "cell_type": "code",
   "execution_count": null,
   "id": "18a3659a-6b39-411c-8087-a0ac8e8a0645",
   "metadata": {},
   "outputs": [
    {
     "name": "stdout",
     "output_type": "stream",
     "text": [
      "This city is in India\n"
     ]
    }
   ],
   "source": [
    "#Ques 3 Print out the country this location is in.\n",
    "country = data1['location']['country']\n",
    "print(\"This city is in\", country)"
   ]
  },
  {
   "cell_type": "code",
   "execution_count": null,
   "id": "1653db70-3d20-4102-9dc4-6e27a871a40e",
   "metadata": {},
   "outputs": [],
   "source": [
    "#Ques 4 Print out the difference between the current temperature and how warm it feels. Use \"It feels ___ degrees colder\" or \"It feels ___ degrees warmer,\" not negative numbers.\n",
    "difference = int(data1['current']['temp_c'])-int(data1['current']['feelslike_c'])\n",
    "if data1['current']['temp_c'] > data1['current']['feelslike_c']:\n",
    "    print(\"It feels\", abs(difference), \"degrees colder.\")\n",
    "elif data1['current']['temp_c'] < data1['current']['feelslike_c']:\n",
    "    print (\"It feels\", abs(difference), \"degrees warmer.\")\n",
    "else:\n",
    "    print(\"It feels the same temp\")"
   ]
  },
  {
   "cell_type": "code",
   "execution_count": null,
   "id": "666f417c-855d-4131-87c9-3d468aaac704",
   "metadata": {},
   "outputs": [],
   "source": [
    "#Ques 5 What's the current temperature at Heathrow International Airport? Use the airport's IATA code to search.\n",
    "url2 = f'http://api.weatherapi.com/v1/current.json?key={API_KEY}&q=iata:LHR'\n",
    "response2 = requests.get(url2)\n",
    "data2 = response2.json()"
   ]
  },
  {
   "cell_type": "code",
   "execution_count": null,
   "id": "41085c20-ecc2-43d1-8128-d4ee4559458a",
   "metadata": {},
   "outputs": [
    {
     "name": "stdout",
     "output_type": "stream",
     "text": [
      "The current temperature at Heathrow International Airport is 9.0 degree celsius.\n"
     ]
    }
   ],
   "source": [
    "heathrow = data2['current']['temp_c']\n",
    "print(\"The current temperature at Heathrow International Airport is\", heathrow, \"degree celsius.\")"
   ]
  },
  {
   "cell_type": "code",
   "execution_count": null,
   "id": "94220826-161f-490d-8822-aa501831b56a",
   "metadata": {},
   "outputs": [],
   "source": [
    "#Ques 6 What URL would I use to request a 3-day forecast at Heathrow?\n",
    "#Answer: http://api.weatherapi.com/v1/forecast.json?key={API_KEY}&q=iata:LHR&days=3"
   ]
  },
  {
   "cell_type": "code",
   "execution_count": null,
   "id": "1612ac24-8283-4148-b792-68657c3bbbb2",
   "metadata": {},
   "outputs": [
    {
     "name": "stdout",
     "output_type": "stream",
     "text": [
      "These are my forecast dates:\n",
      "2023-11-15\n",
      "2023-11-16\n",
      "2023-11-17\n"
     ]
    }
   ],
   "source": [
    "#Ques 7 Print the date of each of the 3 days you're getting a forecast for.\n",
    "url3 = f'http://api.weatherapi.com/v1/forecast.json?key={API_KEY}&q=iata:LHR&days=3'\n",
    "response3 = requests.get(url3)\n",
    "data3=response3.json()\n",
    "dates = data3['forecast']['forecastday']\n",
    "print(\"These are my forecast dates:\")\n",
    "for one_date in dates:\n",
    "    date_value = one_date['date']\n",
    "    print(date_value)"
   ]
  },
  {
   "cell_type": "code",
   "execution_count": null,
   "id": "63e52c02-34f9-4c96-8d7b-1957ae8da2c0",
   "metadata": {},
   "outputs": [
    {
     "name": "stdout",
     "output_type": "stream",
     "text": [
      "These are the max temps for forecast dates:\n",
      "10.8 degree celsius\n",
      "11.4 degree celsius\n",
      "8.5 degree celsius\n"
     ]
    }
   ],
   "source": [
    "#Ques 8 Print the maximum temperature of each of the days.\n",
    "dates = data3['forecast']['forecastday']\n",
    "print(\"These are the max temps for forecast dates:\")\n",
    "for one_date in dates:\n",
    "    max_temp= one_date['day']['maxtemp_c']\n",
    "    print(max_temp, \"degree celsius\")"
   ]
  },
  {
   "cell_type": "code",
   "execution_count": null,
   "id": "ebbb9ec5-7420-4ba4-98d6-0f578c4ac604",
   "metadata": {},
   "outputs": [
    {
     "name": "stdout",
     "output_type": "stream",
     "text": [
      "Thursday\n"
     ]
    }
   ],
   "source": [
    "#Ques 9 Print only the day with the highest maximum temperature.\n",
    "from datetime import datetime\n",
    "\n",
    "for one_date in dates:\n",
    "    temp = one_date['day']['maxtemp_c']\n",
    "    \n",
    "    if temp > max_temp:\n",
    "        max_temp = temp\n",
    "        \n",
    "        date_string = one_date['date']\n",
    "        \n",
    "        date_object = datetime.strptime(date_string, \"%Y-%m-%d\")\n",
    "        \n",
    "        day_of_week = date_object.strftime(\"%A\")\n",
    "\n",
    "print (day_of_week)\n",
    "\n"
   ]
  },
  {
   "cell_type": "code",
   "execution_count": null,
   "id": "daa840bb-7863-4afc-ae41-246564f622ae",
   "metadata": {},
   "outputs": [],
   "source": []
  }
 ],
 "metadata": {
  "kernelspec": {
   "display_name": "Python 3 (ipykernel)",
   "language": "python",
   "name": "python3"
  },
  "language_info": {
   "codemirror_mode": {
    "name": "ipython",
    "version": 3
   },
   "file_extension": ".py",
   "mimetype": "text/x-python",
   "name": "python",
   "nbconvert_exporter": "python",
   "pygments_lexer": "ipython3",
   "version": "3.11.6"
  }
 },
 "nbformat": 4,
 "nbformat_minor": 5
}
